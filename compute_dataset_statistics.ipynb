{
 "cells": [
  {
   "cell_type": "markdown",
   "id": "79501c78",
   "metadata": {},
   "source": [
    "### load dataset ground truth"
   ]
  },
  {
   "cell_type": "code",
   "execution_count": null,
   "id": "c28a16db",
   "metadata": {},
   "outputs": [],
   "source": [
    "import json\n",
    "import pandas as pd\n",
    "from tabulate import tabulate\n",
    "\n",
    "GT_PATH = '/path/to/dronewaste/dronewaste_v1.0.json'\n",
    "\n",
    "with open(GT_PATH, 'r') as f:\n",
    "    gt = json.load(f)\n",
    "\n",
    "# enumerate categories\n",
    "categories = [c['name'] for c in gt['categories']]\n",
    "\n",
    "images = []\n",
    "for img in gt['images']:\n",
    "    images.append([\n",
    "        img['id'],\n",
    "        img['site'],\n",
    "        len([a for a in gt['annotations'] if a['image_id'] == img['id']]),\n",
    "    ])\n",
    "\n",
    "# images dataframe\n",
    "dfi = pd.DataFrame(images, columns=['id', 'site', 'annots'])\n",
    "\n",
    "annotations = []\n",
    "for ann in gt['annotations']:\n",
    "    annotations.append([\n",
    "        ann['id'],\n",
    "        ann['image_id'],\n",
    "        categories[ann['category_id']],\n",
    "        dfi[dfi['id'] == ann['image_id']]['site'].iloc[0],\n",
    "        ann['area'],\n",
    "        ann['iscrowd'],\n",
    "    ])\n",
    "\n",
    "# annotations dataframe\n",
    "dfa = pd.DataFrame(annotations, columns=['id', 'image_id', 'category', 'site', 'area', 'iscrowd'])\n",
    "\n",
    "print(GT_PATH)\n",
    "dfa.head()"
   ]
  },
  {
   "cell_type": "markdown",
   "id": "9fcb467c",
   "metadata": {},
   "source": [
    "### compute general statistics"
   ]
  },
  {
   "cell_type": "code",
   "execution_count": null,
   "id": "3b4f5346",
   "metadata": {},
   "outputs": [],
   "source": [
    "n_sites = len(dfi['site'].unique())\n",
    "n_cats = len(dfa['category'].unique())\n",
    "n_imgs = len(dfi)\n",
    "n_empty = len(dfi[dfi['annots'] == 0])\n",
    "n_annotated = len(dfi[dfi['annots'] > 0])\n",
    "n_annots = len(dfa)\n",
    "n_instances = len(dfa[dfa['iscrowd'] == 0])\n",
    "n_crowds = len(dfa[dfa['iscrowd'] == 1])\n",
    "\n",
    "print(f'sites: {n_sites}, cats: {n_cats}')\n",
    "print(f'imgs: {n_imgs}, empty: {n_empty}, annotated: {n_annotated}')\n",
    "print(f'annots: {n_annots}, instances: {n_instances}, crowds: {n_crowds}')"
   ]
  },
  {
   "cell_type": "markdown",
   "id": "c39183ef",
   "metadata": {},
   "source": [
    "### count instance and crowd annotations"
   ]
  },
  {
   "cell_type": "code",
   "execution_count": null,
   "id": "e0223927",
   "metadata": {},
   "outputs": [],
   "source": [
    "# count annotations, instances and crowds by category\n",
    "annots = ['annots']\n",
    "instances = ['instances']\n",
    "crowds = ['crowds']\n",
    "for cat in categories:\n",
    "    cat_annots = dfa[dfa['category'] == cat]\n",
    "    annots.append(len(cat_annots))\n",
    "    instances.append(len(cat_annots[cat_annots['iscrowd'] == 0]))\n",
    "    crowds.append(len(cat_annots[cat_annots['iscrowd'] == 1]))\n",
    "\n",
    "print(tabulate([annots, instances, crowds], headers=categories))"
   ]
  },
  {
   "cell_type": "markdown",
   "id": "ead44b74",
   "metadata": {},
   "source": [
    "### count annotations by site and by category"
   ]
  },
  {
   "cell_type": "code",
   "execution_count": null,
   "id": "57b6007f",
   "metadata": {},
   "outputs": [],
   "source": [
    "# filter instance annotations (which are not crowd)\n",
    "dfnc = dfa[dfa['iscrowd'] == 0]\n",
    "\n",
    "# count annotations by category and site\n",
    "counts = []\n",
    "for site in sorted(dfi['site'].unique()):\n",
    "    site_row = [site]\n",
    "    for cat in categories:\n",
    "        # count annotations for current site and category\n",
    "        cat_site = dfnc[(dfnc['site'] == site) & (dfnc['category'] == cat)]\n",
    "        site_row.append(len(cat_site))\n",
    "    counts.append(site_row)\n",
    "\n",
    "print(tabulate(counts, headers=['site'] + categories))"
   ]
  }
 ],
 "metadata": {
  "kernelspec": {
   "display_name": "Python 3",
   "language": "python",
   "name": "python3"
  },
  "language_info": {
   "codemirror_mode": {
    "name": "ipython",
    "version": 3
   },
   "file_extension": ".py",
   "mimetype": "text/x-python",
   "name": "python",
   "nbconvert_exporter": "python",
   "pygments_lexer": "ipython3",
   "version": "3.8.10"
  }
 },
 "nbformat": 4,
 "nbformat_minor": 5
}
